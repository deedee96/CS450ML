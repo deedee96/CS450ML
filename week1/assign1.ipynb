{
 "cells": [
  {
   "cell_type": "code",
   "execution_count": 14,
   "metadata": {
    "collapsed": true
   },
   "outputs": [],
   "source": [
    "import numpy as np\n",
    "from random import *\n",
    "import decimal\n",
    "\n",
    "class Movie:\n",
    "    def __init__(self, title=\"\",year=0,runtime=0):\n",
    "        self.title = title\n",
    "        self.year = year\n",
    "        if runtime < 0:\n",
    "            self.runtime = 0\n",
    "        else:\n",
    "            self.runtime = runtime\n",
    "        \n",
    "    def __repr__(self):\n",
    "        return self.title + \" (\" + str(self.year) + \") - \" + str(self.runtime) + \" mins.\"\n",
    "    \n",
    "    \n",
    "    def getRunTime(self):\n",
    "        h = self.runtime / 60\n",
    "        m = self.runtime \n",
    "        return h,m"
   ]
  },
  {
   "cell_type": "code",
   "execution_count": null,
   "metadata": {
    "collapsed": true
   },
   "outputs": [],
   "source": []
  },
  {
   "cell_type": "code",
   "execution_count": 28,
   "metadata": {
    "collapsed": true
   },
   "outputs": [],
   "source": [
    "m = Movie(\"Jurassic World\", 2015, 124)"
   ]
  },
  {
   "cell_type": "code",
   "execution_count": 29,
   "metadata": {},
   "outputs": [
    {
     "name": "stdout",
     "output_type": "stream",
     "text": [
      "Jurassic World (2015) - 124 mins.\n"
     ]
    }
   ],
   "source": [
    "print(m)"
   ]
  },
  {
   "cell_type": "code",
   "execution_count": 30,
   "metadata": {},
   "outputs": [
    {
     "data": {
      "text/plain": [
       "(2, 124)"
      ]
     },
     "execution_count": 30,
     "metadata": {},
     "output_type": "execute_result"
    }
   ],
   "source": [
    "m.getRunTime()"
   ]
  },
  {
   "cell_type": "code",
   "execution_count": 42,
   "metadata": {
    "collapsed": true
   },
   "outputs": [],
   "source": [
    "def create_movie_list():\n",
    "    myList = []\n",
    "    m1 = Movie(\"Avatar\", 2012, 140)\n",
    "    m2 = Movie(\"Pokemon\", 2017, 160)\n",
    "    m3 = Movie(\"Star Wars\", 2017, 180)\n",
    "    m4 = Movie(\"2012\",2008,100)\n",
    "    myList.append(m)\n",
    "    myList.append(m1)\n",
    "    myList.append(m2)\n",
    "    myList.append(m3)\n",
    "    myList.append(m4)\n",
    "    return myList"
   ]
  },
  {
   "cell_type": "code",
   "execution_count": 69,
   "metadata": {
    "collapsed": true
   },
   "outputs": [],
   "source": [
    "def main():\n",
    "    movieList = create_movie_list()\n",
    "    myDict = {}\n",
    "    newList = [i  for i in movieList if i.getRunTime()[1] > 150]\n",
    "    print(\"***************\")\n",
    "  \n",
    "    for i in movieList:\n",
    "        myDict[i] = float(random.randrange(0, 500))/100\n",
    "  \n",
    "    for i,x in myDict.iteritems():\n",
    "        print i, x\n",
    "    \n",
    "        \n",
    "    "
   ]
  },
  {
   "cell_type": "code",
   "execution_count": 70,
   "metadata": {},
   "outputs": [
    {
     "name": "stdout",
     "output_type": "stream",
     "text": [
      "***************\n",
      "2012 (2008) - 100 mins. 2.28\n",
      "Jurassic World (2015) - 124 mins. 1.85\n",
      "Avatar (2012) - 140 mins. 3.73\n",
      "Pokemon (2017) - 160 mins. 3.36\n",
      "Star Wars (2017) - 180 mins. 4.03\n"
     ]
    }
   ],
   "source": [
    "main()"
   ]
  },
  {
   "cell_type": "code",
   "execution_count": 11,
   "metadata": {
    "collapsed": true
   },
   "outputs": [],
   "source": [
    "def get_movie_data():\n",
    "    \"\"\"\n",
    "    Generate a numpy array of movie data\n",
    "    :return:\n",
    "    \"\"\"\n",
    "    num_movies = 10\n",
    "    array = np.zeros([num_movies, 3], dtype=np.float)\n",
    "\n",
    "    random = Random()\n",
    "\n",
    "    for i in range(num_movies):\n",
    "        # There is nothing magic about 100 here, just didn't want ids\n",
    "        # to match the row numbers\n",
    "        movie_id = i + 100\n",
    "        \n",
    "        # Lets have the views range from 100-10000\n",
    "        views = random.randint(100, 10000)\n",
    "        stars = random.uniform(0, 5)\n",
    "\n",
    "        array[i][0] = movie_id\n",
    "        array[i][1] = views\n",
    "        array[i][2] = stars\n",
    "\n",
    "    return array"
   ]
  },
  {
   "cell_type": "code",
   "execution_count": 54,
   "metadata": {},
   "outputs": [],
   "source": [
    "def main():\n",
    "    myArray = get_movie_data()\n",
    "    print myArray\n",
    "    #print 'Num rols: ' + str(np.shape(myArray)[0])\n",
    "    #print 'Num cols: ' + str(np.shape(myArray)[1])\n",
    "    #print(myArray[:3])\n",
    "    print '*********'\n",
    "    #print myArray[:,[1,2]]\n",
    "    print myArray[:,1]"
   ]
  },
  {
   "cell_type": "code",
   "execution_count": 55,
   "metadata": {},
   "outputs": [
    {
     "name": "stdout",
     "output_type": "stream",
     "text": [
      "[[  1.00000000e+02   2.87900000e+03   1.86378211e+00]\n",
      " [  1.01000000e+02   4.76700000e+03   3.26562927e+00]\n",
      " [  1.02000000e+02   7.86200000e+03   3.93567769e+00]\n",
      " [  1.03000000e+02   6.89300000e+03   4.39453149e+00]\n",
      " [  1.04000000e+02   6.44000000e+03   2.89409057e+00]\n",
      " [  1.05000000e+02   1.07800000e+03   2.90964525e-01]\n",
      " [  1.06000000e+02   3.00000000e+03   3.36877339e+00]\n",
      " [  1.07000000e+02   6.77500000e+03   2.46961900e+00]\n",
      " [  1.08000000e+02   3.36200000e+03   1.84876467e+00]\n",
      " [  1.09000000e+02   6.91800000e+03   2.10740103e+00]]\n",
      "*********\n",
      "[ 2879.  4767.  7862.  6893.  6440.  1078.  3000.  6775.  3362.  6918.]\n"
     ]
    }
   ],
   "source": [
    "main()"
   ]
  }
 ],
 "metadata": {
  "kernelspec": {
   "display_name": "Python 2",
   "language": "python",
   "name": "python2"
  },
  "language_info": {
   "codemirror_mode": {
    "name": "ipython",
    "version": 2
   },
   "file_extension": ".py",
   "mimetype": "text/x-python",
   "name": "python",
   "nbconvert_exporter": "python",
   "pygments_lexer": "ipython2",
   "version": "2.7.14"
  }
 },
 "nbformat": 4,
 "nbformat_minor": 2
}
