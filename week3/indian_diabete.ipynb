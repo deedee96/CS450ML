{
 "cells": [
  {
   "cell_type": "code",
   "execution_count": 63,
   "metadata": {},
   "outputs": [],
   "source": [
    "import pandas as pd\n",
    "from pandas import read_csv\n",
    "import numpy as np\n",
    "from sklearn.neighbors import KNeighborsClassifier\n",
    "from sklearn.cross_validation import train_test_split\n",
    "from sklearn.utils import shuffle\n",
    "from knn import kNNClassifier\n",
    "from sklearn.cross_validation import cross_val_score"
   ]
  },
  {
   "cell_type": "code",
   "execution_count": 86,
   "metadata": {
    "collapsed": true
   },
   "outputs": [],
   "source": [
    "def indian_diabete(k , fold):\n",
    "\n",
    "    df = pd.read_csv(\"https://archive.ics.uci.edu/ml/machine-learning-databases/pima-indians-diabetes/pima-indians-diabetes.data\",\n",
    "                      header=None,skipinitialspace=True)\n",
    "    df[[1,2,3,4,5]] = df[[1,2,3,4,5]].replace(0, np.NAN)\n",
    "    df.dropna(inplace=True)\n",
    "    \n",
    "    #shuffle our data\n",
    "    df = shuffle(df)\n",
    "    values = df.values\n",
    "    X = values[:,0:8]\n",
    "    y = values[:,8]\n",
    "\n",
    "    classifier_1 = kNNClassifier(k)\n",
    "    custom_scores = cross_val_score(classifier_1, X, y, cv=fold, scoring='accuracy')\n",
    "    classifier_2 = KNeighborsClassifier(n_neighbors=k)\n",
    "    sk_scores = cross_val_score(classifier_2, X, y, cv=fold, scoring='accuracy')\n",
    "    return custom_scores, sk_scores"
   ]
  }
 ],
 "metadata": {
  "kernelspec": {
   "display_name": "Python 2",
   "language": "python",
   "name": "python2"
  },
  "language_info": {
   "codemirror_mode": {
    "name": "ipython",
    "version": 2
   },
   "file_extension": ".py",
   "mimetype": "text/x-python",
   "name": "python",
   "nbconvert_exporter": "python",
   "pygments_lexer": "ipython2",
   "version": "2.7.14"
  }
 },
 "nbformat": 4,
 "nbformat_minor": 2
}
