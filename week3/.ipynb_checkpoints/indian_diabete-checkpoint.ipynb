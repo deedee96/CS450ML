{
 "cells": [
  {
   "cell_type": "code",
   "execution_count": 13,
   "metadata": {},
   "outputs": [],
   "source": [
    "import pandas as pd\n",
    "import numpy as np\n",
    "from sklearn.neighbors import KNeighborsClassifier\n",
    "from sklearn.cross_validation import train_test_split\n",
    "from sklearn.utils import shuffle\n",
    "from knn import kNNClassifier\n",
    "from sklearn.cross_validation import cross_val_score"
   ]
  },
  {
   "cell_type": "code",
   "execution_count": 20,
   "metadata": {
    "collapsed": true
   },
   "outputs": [],
   "source": [
    "def carEval(k , fold):\n",
    "    headers = [\"buying\", \"maint\", \"doors\", \"persons\", \"lug_boot\", \"safety\", \"class\"]\n",
    "\n",
    "    df = pd.read_csv(\"https://archive.ics.uci.edu/ml/machine-learning-databases/car/car.data\",\n",
    "                      header=None,names=headers, na_values=\"?\", skipinitialspace=True)\n",
    "    \n",
    "    #shuffle our data\n",
    "    df = shuffle(df)\n",
    "\n",
    "    cleanup_nums = {\"doors\":    {\"5more\": 5},\n",
    "                \"persons\":  {\"more\": 5},\n",
    "                \"lug_boot\": {\"small\": 1, \"med\": 2, \"big\": 3},\n",
    "                \"safety\":   {\"low\": 1, \"med\": 2, \"high\": 3},\n",
    "                \"buying\":   {\"vhigh\": 4, \"high\": 3, \"med\": 2, \"low\": 1},\n",
    "                \"maint\":    {\"vhigh\": 4, \"high\": 3, \"med\": 2, \"low\": 1},\n",
    "                \"class\":    {\"unacc\": 1, \"acc\": 2, \"good\": 3, \"vgood\": 4}}\n",
    "    df.replace(cleanup_nums, inplace=True)\n",
    "    df[['doors','persons']] = df[['doors','persons']].apply(pd.to_numeric)\n",
    "    #here is anything but the class\n",
    "    X = np.array(df.iloc[:,0:6])\n",
    "    #the class target\n",
    "    y = np.array(df['class']) \n",
    "    classifier_1 = kNNClassifier(k)\n",
    "    custom_scores = cross_val_score(classifier_1, X, y, cv=fold, scoring='accuracy')\n",
    "    classifier_2 = KNeighborsClassifier(n_neighbors=k)\n",
    "    sk_scores = cross_val_score(classifier_2, X, y, cv=fold, scoring='accuracy')\n",
    "    return custom_scores, sk_scores"
   ]
  }
 ],
 "metadata": {
  "kernelspec": {
   "display_name": "Python 2",
   "language": "python",
   "name": "python2"
  },
  "language_info": {
   "codemirror_mode": {
    "name": "ipython",
    "version": 2
   },
   "file_extension": ".py",
   "mimetype": "text/x-python",
   "name": "python",
   "nbconvert_exporter": "python",
   "pygments_lexer": "ipython2",
   "version": "2.7.14"
  }
 },
 "nbformat": 4,
 "nbformat_minor": 2
}
