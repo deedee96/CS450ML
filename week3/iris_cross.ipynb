{
 "cells": [
  {
   "cell_type": "code",
   "execution_count": 9,
   "metadata": {},
   "outputs": [],
   "source": [
    "import pandas as pd\n",
    "from sklearn import datasets\n",
    "from pandas import read_csv\n",
    "import numpy as np\n",
    "from sklearn.model_selection import KFold\n",
    "from sklearn.neighbors import KNeighborsClassifier\n",
    "from sklearn.cross_validation import train_test_split\n",
    "from sklearn.utils import shuffle\n",
    "from knn import kNNClassifier\n",
    "from sklearn.cross_validation import cross_val_score"
   ]
  },
  {
   "cell_type": "code",
   "execution_count": 17,
   "metadata": {
    "collapsed": true
   },
   "outputs": [],
   "source": [
    "def iris_cross(k , fold):\n",
    "\n",
    "    iris = datasets.load_iris()\n",
    "    #shuffle our data\n",
    "\n",
    "    classifier_1 = kNNClassifier(k)\n",
    "    custom_scores = cross_val_score(classifier_1, iris.data, iris.target, cv=fold, scoring='accuracy')\n",
    "    classifier_2 = KNeighborsClassifier(n_neighbors=k)\n",
    "    sk_scores = cross_val_score(classifier_2, iris.data, iris.target, cv=fold,scoring='accuracy')\n",
    "    return custom_scores,sk_scores"
   ]
  }
 ],
 "metadata": {
  "kernelspec": {
   "display_name": "Python 2",
   "language": "python",
   "name": "python2"
  },
  "language_info": {
   "codemirror_mode": {
    "name": "ipython",
    "version": 2
   },
   "file_extension": ".py",
   "mimetype": "text/x-python",
   "name": "python",
   "nbconvert_exporter": "python",
   "pygments_lexer": "ipython2",
   "version": "2.7.14"
  }
 },
 "nbformat": 4,
 "nbformat_minor": 2
}
