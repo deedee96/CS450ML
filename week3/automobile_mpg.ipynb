{
 "cells": [
  {
   "cell_type": "code",
   "execution_count": 2,
   "metadata": {},
   "outputs": [
    {
     "name": "stderr",
     "output_type": "stream",
     "text": [
      "/Users/haodang/anaconda2/lib/python2.7/site-packages/sklearn/cross_validation.py:41: DeprecationWarning: This module was deprecated in version 0.18 in favor of the model_selection module into which all the refactored classes and functions are moved. Also note that the interface of the new CV iterators are different from that of this module. This module will be removed in 0.20.\n",
      "  \"This module will be removed in 0.20.\", DeprecationWarning)\n"
     ]
    }
   ],
   "source": [
    "import pandas as pd\n",
    "from pandas import read_csv\n",
    "import numpy as np\n",
    "from sklearn.neighbors import KNeighborsClassifier\n",
    "from sklearn.cross_validation import train_test_split\n",
    "from sklearn.utils import shuffle\n",
    "from knn import kNNClassifier\n",
    "from sklearn.cross_validation import cross_val_score"
   ]
  },
  {
   "cell_type": "code",
   "execution_count": 60,
   "metadata": {
    "collapsed": true
   },
   "outputs": [],
   "source": [
    "def automobile_mpg(k , fold):\n",
    "\n",
    "    df = pd.read_csv(\"https://archive.ics.uci.edu/ml/machine-learning-databases/auto-mpg/auto-mpg.data\", delim_whitespace=True, header=None)\n",
    "    df = df.drop(8, axis=1)\n",
    "    df = df.replace('?', np.nan)\n",
    "    df = df.dropna()\n",
    "    df[3] = pd.to_numeric(df[3])\n",
    "    #shuffle our data\n",
    "    df = shuffle(df)\n",
    "    values = df.values\n",
    "    X = values[:,1:8]\n",
    "    y = values[:,0]\n",
    "\n",
    "    #classifier_1 = kNNClassifier(k)\n",
    "    #custom_scores = cross_val_score(classifier_1, X, y, cv=fold, scoring='precision')\n",
    "    #classifier_2 = KNeighborsClassifier(n_neighbors=k)\n",
    "    #sk_scores = cross_val_score(classifier_2, X, y, cv=fold, scoring='precision')\n",
    "    #return custom_scores, sk_scores"
   ]
  }
 ],
 "metadata": {
  "kernelspec": {
   "display_name": "Python 2",
   "language": "python",
   "name": "python2"
  },
  "language_info": {
   "codemirror_mode": {
    "name": "ipython",
    "version": 2
   },
   "file_extension": ".py",
   "mimetype": "text/x-python",
   "name": "python",
   "nbconvert_exporter": "python",
   "pygments_lexer": "ipython2",
   "version": "2.7.14"
  }
 },
 "nbformat": 4,
 "nbformat_minor": 2
}
