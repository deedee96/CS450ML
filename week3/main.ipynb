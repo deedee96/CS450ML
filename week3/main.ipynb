{
 "cells": [
  {
   "cell_type": "code",
   "execution_count": 1,
   "metadata": {},
   "outputs": [
    {
     "name": "stderr",
     "output_type": "stream",
     "text": [
      "/Users/haodang/anaconda2/lib/python2.7/site-packages/sklearn/cross_validation.py:41: DeprecationWarning: This module was deprecated in version 0.18 in favor of the model_selection module into which all the refactored classes and functions are moved. Also note that the interface of the new CV iterators are different from that of this module. This module will be removed in 0.20.\n",
      "  \"This module will be removed in 0.20.\", DeprecationWarning)\n"
     ]
    }
   ],
   "source": [
    "from carEval import carEval\n",
    "from indian_diabete import indian_diabete\n",
    "from automobile_mpg import automobile_mpg\n",
    "import pandas as pd\n",
    "def get_k():\n",
    "    while True:\n",
    "        try:\n",
    "            k = int(raw_input(\"Please enter in the number of neighbor(s): \"))\n",
    "            break\n",
    "        except ValueError:\n",
    "            print(\"Please enter in a valid number\")\n",
    "    return k      "
   ]
  },
  {
   "cell_type": "code",
   "execution_count": 2,
   "metadata": {},
   "outputs": [],
   "source": [
    "def get_fold():\n",
    "    while True:\n",
    "        try:\n",
    "            fold = int(raw_input(\"Please enter in the number of fold(s): \"))\n",
    "            break\n",
    "        except ValueError:\n",
    "            print(\"Please enter in a valid number\")\n",
    "    return fold      \n",
    "            "
   ]
  },
  {
   "cell_type": "code",
   "execution_count": 3,
   "metadata": {},
   "outputs": [],
   "source": [
    "def pretty_print(my_scores, sk_scores,k,fold):\n",
    "    d = {'Test:': [i for i in xrange(1,fold+1)],'my_score': my_scores, 'sk_score': sk_scores}\n",
    "    df = pd.DataFrame(data=d)\n",
    "    \n",
    "    print \"Below is the result of\", k, \"neighbors and\", fold, \"test\"\n",
    "    \n",
    "    print df\n",
    "    \n",
    "    print \"Average of my scores are:\", round(my_scores.mean(),2)\n",
    "    print \"Average of sk scores are:\", round(sk_scores.mean(),2)"
   ]
  },
  {
   "cell_type": "code",
   "execution_count": 4,
   "metadata": {
    "collapsed": true
   },
   "outputs": [],
   "source": [
    "def main():\n",
    "    print \"1 for Car Evaluation\"\n",
    "    print \"2 for Pima Indian Diabetes\"\n",
    "    print \"3 for Automobile MPG\"\n",
    "    print \"\"\n",
    "    \n",
    "    my_input = raw_input(\"Please select your dataset: \")\n",
    "    my_input = int(my_input)\n",
    "    while(True):\n",
    "        if my_input == 1 or my_input == 2 or my_input == 3:\n",
    "            break\n",
    "        my_input = raw_input(\"Please enter either 1, 2, or 3: \")\n",
    "        my_input = int(my_input)\n",
    "        \n",
    "        \n",
    "    k = get_k()\n",
    "    fold = get_fold()\n",
    "        \n",
    "    my_scores = []\n",
    "    sk_scores = []\n",
    "    \n",
    "    if my_input == 1:\n",
    "        my_scores, sk_scores = carEval(k,fold)\n",
    "        pretty_print(my_scores, sk_scores,k,fold)\n",
    "    elif my_input == 2:\n",
    "        my_scores, sk_scores = indian_diabete(k, fold)\n",
    "        my_scores, sk_scores = carEval(k,fold)\n",
    "        \n",
    "        \n",
    "    elif my_input == 3:\n",
    "        automobile_mpg(k, fold)\n",
    "        print \"Data has been clearn up\"\n",
    "    "
   ]
  },
  {
   "cell_type": "code",
   "execution_count": 5,
   "metadata": {},
   "outputs": [
    {
     "name": "stdout",
     "output_type": "stream",
     "text": [
      "1 for Car Evaluation\n",
      "2 for Pima Indian Diabetes\n",
      "3 for Automobile MPG\n",
      "\n",
      "Please select your dataset: 3\n",
      "Please enter in the number of neighbor(s): 3\n",
      "Please enter in the number of fold(s): 10\n",
      "Data has been clearn up\n"
     ]
    }
   ],
   "source": [
    "main()"
   ]
  }
 ],
 "metadata": {
  "kernelspec": {
   "display_name": "Python 2",
   "language": "python",
   "name": "python2"
  },
  "language_info": {
   "codemirror_mode": {
    "name": "ipython",
    "version": 2
   },
   "file_extension": ".py",
   "mimetype": "text/x-python",
   "name": "python",
   "nbconvert_exporter": "python",
   "pygments_lexer": "ipython2",
   "version": "2.7.14"
  }
 },
 "nbformat": 4,
 "nbformat_minor": 2
}
