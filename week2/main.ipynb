{
 "cells": [
  {
   "cell_type": "code",
   "execution_count": 43,
   "metadata": {
    "collapsed": true
   },
   "outputs": [],
   "source": [
    "from sklearn import datasets\n",
    "from __future__ import division\n",
    "import pandas as pd\n",
    "import numpy as np\n",
    "import urllib2\n",
    "from knn import kNNClassifier\n",
    "\n",
    "\n",
    "\n",
    "iris = datasets.load_iris()\n",
    "\n",
    "\n",
    "\n",
    "#This is how your would load a cvs file\n",
    "\n",
    "#url = \"https://gist.githubusercontent.com/curran/a08a1080b88344b0c8a7/raw/d546eaee765268bf2f487608c537c05e22e4b221/iris.csv\"\n",
    "#dataset = pd.read_csv(url)\n",
    "\n",
    "#get the shape of the dataset\n",
    "#dataset.shape\n",
    "\n",
    "\n",
    "#dataset.head(5)\n",
    "#dataset.groupby('species').size()\n",
    "\n",
    "\n",
    "#feature_columns = ['sepal_length', 'sepal_width', 'petal_length','petal_width']\n",
    "#X = dataset[feature_columns].values\n",
    "#y = dataset['species'].values\n",
    "\n",
    "#from sklearn.preprocessing import LabelEncoder\n",
    "#le = LabelEncoder()\n",
    "#y = le.fit_transform(y)\n",
    "\n",
    "#from sklearn.cross_validation import train_test_split\n",
    "#X_train, X_test, y_train, y_test = train_test_split(X, y, test_size = 0.2, random_state = 0)\n",
    "\n",
    "\n",
    "\n",
    "# Show the data (the attributes of each instance)\n",
    "#print(iris.data)\n",
    "\n",
    "# Show the target values (in numeric format) of each instance\n",
    "#print(iris.target)\n",
    "\n",
    "# Show the actual target names that correspond to each number\n",
    "#print(iris.target_names)\n"
   ]
  },
  {
   "cell_type": "code",
   "execution_count": 2,
   "metadata": {
    "collapsed": true
   },
   "outputs": [],
   "source": [
    "from sklearn.model_selection import train_test_split\n",
    "X_train, X_test, y_train, y_test = train_test_split(iris.data, iris.target, test_size=0.3, random_state=0)\n",
    "#print iris.data\n"
   ]
  },
  {
   "cell_type": "code",
   "execution_count": 3,
   "metadata": {
    "collapsed": true
   },
   "outputs": [],
   "source": [
    "def myAccurary(predicted, target):\n",
    "    count = 0;\n",
    "    for i in xrange(len(target)):\n",
    "        if predicted[i] == target[i]:\n",
    "            count += 1\n",
    "    return count / len(target) * 100;"
   ]
  },
  {
   "cell_type": "code",
   "execution_count": 59,
   "metadata": {
    "collapsed": true
   },
   "outputs": [],
   "source": [
    "def main():\n",
    "    \n",
    "    print \"*****************************\"\n",
    "    print \"*     k      *    Accuracy  *\"\n",
    "    print \"*****************************\"\n",
    "\n",
    "    for i in xrange(1,10):\n",
    "        classifier = kNNClassifier(i)\n",
    "        model = classifier.fit(X_train, y_train)\n",
    "        predictions = model.predict(X_test)\n",
    "        accuracy = str(round(myAccurary(predictions, y_test), 2))\n",
    "        print \"*    \",   i, \"     *   \", accuracy, \"    *\"\n",
    "    print \"*****************************\"\n",
    "    print \" \"\n",
    "    print \"Please enter in the following attributes of your iris to make a prediction\"\n",
    "    att_1 = raw_input(iris.feature_names[0])\n",
    "    att_2 = raw_input(iris.feature_names[1])\n",
    "    att_3 = raw_input(iris.feature_names[2])\n",
    "    att_4 = raw_input(iris.feature_names[3])\n",
    "    x = np.array([[att_1, att_2, att_3, att_4]], dtype=np.float64)\n",
    "    _predictions = model.predict(x)\n",
    "    print \" \"\n",
    "    print \"Based on your input, our prediction is\", iris.target_names[_predictions[0]]"
   ]
  },
  {
   "cell_type": "code",
   "execution_count": 60,
   "metadata": {},
   "outputs": [
    {
     "name": "stdout",
     "output_type": "stream",
     "text": [
      "*****************************\n",
      "*     k      *    Accuracy  *\n",
      "*****************************\n",
      "*     1      *    97.78     *\n",
      "*     2      *    97.78     *\n",
      "*     3      *    97.78     *\n",
      "*     4      *    97.78     *\n",
      "*     5      *    97.78     *\n",
      "*     6      *    97.78     *\n",
      "*     7      *    97.78     *\n",
      "*     8      *    97.78     *\n",
      "*     9      *    97.78     *\n",
      "*****************************\n",
      " \n",
      "Please enter in the following attributes of your iris to make a prediction\n",
      "sepal length (cm)3.2\n",
      "sepal width (cm)4.1\n",
      "petal length (cm)5.2\n",
      "petal width (cm)0.2\n",
      " \n",
      "Based on your input, our prediction is  versicolor\n"
     ]
    }
   ],
   "source": [
    "main()"
   ]
  }
 ],
 "metadata": {
  "kernelspec": {
   "display_name": "Python 2",
   "language": "python",
   "name": "python2"
  },
  "language_info": {
   "codemirror_mode": {
    "name": "ipython",
    "version": 2
   },
   "file_extension": ".py",
   "mimetype": "text/x-python",
   "name": "python",
   "nbconvert_exporter": "python",
   "pygments_lexer": "ipython2",
   "version": "2.7.14"
  }
 },
 "nbformat": 4,
 "nbformat_minor": 2
}
